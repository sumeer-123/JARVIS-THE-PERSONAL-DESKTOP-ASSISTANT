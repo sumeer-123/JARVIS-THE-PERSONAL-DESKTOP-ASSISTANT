{
 "cells": [
  {
   "cell_type": "code",
   "execution_count": 2,
   "metadata": {
    "scrolled": true
   },
   "outputs": [
    {
     "name": "stdout",
     "output_type": "stream",
     "text": [
      "Collecting pyttsx3\n",
      "  Downloading pyttsx3-2.90-py3-none-any.whl (39 kB)\n",
      "Requirement already satisfied: comtypes; platform_system == \"Windows\" in d:\\programdata\\anaconda3\\lib\\site-packages (from pyttsx3) (1.1.7)\n",
      "Collecting pypiwin32; platform_system == \"Windows\"\n",
      "  Downloading pypiwin32-223-py3-none-any.whl (1.7 kB)\n",
      "Requirement already satisfied: pywin32; platform_system == \"Windows\" in d:\\programdata\\anaconda3\\lib\\site-packages (from pyttsx3) (227)\n",
      "Installing collected packages: pypiwin32, pyttsx3\n",
      "Successfully installed pypiwin32-223 pyttsx3-2.90\n",
      "Note: you may need to restart the kernel to use updated packages.\n"
     ]
    }
   ],
   "source": [
    "pip install pyttsx3"
   ]
  },
  {
   "cell_type": "code",
   "execution_count": 30,
   "metadata": {
    "scrolled": false
   },
   "outputs": [
    {
     "name": "stdout",
     "output_type": "stream",
     "text": [
      "Collecting speechRecognition\n",
      "  Downloading SpeechRecognition-3.8.1-py2.py3-none-any.whl (32.8 MB)\n",
      "Installing collected packages: speechRecognition\n",
      "Successfully installed speechRecognition-3.8.1\n",
      "Note: you may need to restart the kernel to use updated packages.\n"
     ]
    }
   ],
   "source": [
    "pip install speechRecognition  # for takecommand function we have to install this speech recognition module"
   ]
  },
  {
   "cell_type": "code",
   "execution_count": 12,
   "metadata": {
    "scrolled": true
   },
   "outputs": [
    {
     "name": "stdout",
     "output_type": "stream",
     "text": [
      "Collecting wikipedia\n",
      "  Downloading wikipedia-1.4.0.tar.gz (27 kB)\n",
      "Requirement already satisfied: beautifulsoup4 in d:\\programdata\\anaconda3\\lib\\site-packages (from wikipedia) (4.9.3)\n",
      "Requirement already satisfied: requests<3.0.0,>=2.0.0 in d:\\programdata\\anaconda3\\lib\\site-packages (from wikipedia) (2.24.0)\n",
      "Requirement already satisfied: soupsieve>1.2; python_version >= \"3.0\" in d:\\programdata\\anaconda3\\lib\\site-packages (from beautifulsoup4->wikipedia) (2.0.1)\n",
      "Requirement already satisfied: certifi>=2017.4.17 in d:\\programdata\\anaconda3\\lib\\site-packages (from requests<3.0.0,>=2.0.0->wikipedia) (2020.6.20)\n",
      "Requirement already satisfied: chardet<4,>=3.0.2 in d:\\programdata\\anaconda3\\lib\\site-packages (from requests<3.0.0,>=2.0.0->wikipedia) (3.0.4)\n",
      "Requirement already satisfied: idna<3,>=2.5 in d:\\programdata\\anaconda3\\lib\\site-packages (from requests<3.0.0,>=2.0.0->wikipedia) (2.10)\n",
      "Note: you may need to restart the kernel to use updated packages.\n",
      "Requirement already satisfied: urllib3!=1.25.0,!=1.25.1,<1.26,>=1.21.1 in d:\\programdata\\anaconda3\\lib\\site-packages (from requests<3.0.0,>=2.0.0->wikipedia) (1.25.11)\n",
      "Building wheels for collected packages: wikipedia\n",
      "  Building wheel for wikipedia (setup.py): started\n",
      "  Building wheel for wikipedia (setup.py): finished with status 'done'\n",
      "  Created wheel for wikipedia: filename=wikipedia-1.4.0-py3-none-any.whl size=11689 sha256=af21166a91ddc75b6245b3fdc126e7df4308edbd394bcaa0783052383ddbaed2\n",
      "  Stored in directory: c:\\users\\sumeer\\appdata\\local\\pip\\cache\\wheels\\07\\93\\05\\72c05349177dca2e0ba31a33ba4f7907606f7ddef303517c6a\n",
      "Successfully built wikipedia\n",
      "Installing collected packages: wikipedia\n",
      "Successfully installed wikipedia-1.4.0\n"
     ]
    }
   ],
   "source": [
    "pip install wikipedia"
   ]
  },
  {
   "cell_type": "code",
   "execution_count": 36,
   "metadata": {},
   "outputs": [],
   "source": [
    "import pyttsx3\n",
    "import datetime\n",
    "import speech_recognition as sr\n",
    "import wikipedia\n",
    "import webbrowser\n",
    "import os\n",
    "import cv2 # to use Camera feature we have to import open cv\n",
    "import sys\n",
    "import random\n",
    "import pyjokes\n",
    "import smtplib\n",
    "import pyautogui\n",
    "import time\n",
    "import requests\n",
    "from email.mime.multipart import MIMEMultipart\n",
    "from email.mime.text import MIMEText\n",
    "from email.mime.base import MIMEBase\n",
    "from email import encoders\n",
    "import json\n",
    "from urllib.request import urlopen\n",
    "import instaloader\n",
    "from pywikihow import WikiHow, search_wikihow\n",
    "import psutil\n",
    "import speedtest"
   ]
  },
  {
   "cell_type": "code",
   "execution_count": 5,
   "metadata": {},
   "outputs": [],
   "source": [
    "engine = pyttsx3.init('sapi5') # With sapi5 we can use inbuilt window voice\n",
    "voices = engine.getProperty('voices')\n",
    "# print(voices) printing inbuilt voices of our windows"
   ]
  },
  {
   "cell_type": "code",
   "execution_count": 6,
   "metadata": {},
   "outputs": [],
   "source": [
    "engine.setProperty('voice',voices[1].id)\n",
    "# print(voices[1].id) printing inbuilt voices of our windows"
   ]
  },
  {
   "cell_type": "code",
   "execution_count": 7,
   "metadata": {},
   "outputs": [],
   "source": [
    "def speak(audio):      # SPEAK FUNCTION\n",
    "    engine.say(audio)\n",
    "    engine.runAndWait()\n"
   ]
  },
  {
   "cell_type": "code",
   "execution_count": 8,
   "metadata": {},
   "outputs": [],
   "source": [
    "def wishme():               # WISHING FUNCTION\n",
    "    hour = int(datetime.datetime.now().hour)\n",
    "    strTime = datetime.datetime.now().strftime(\"%H:%M:%S\")\n",
    "    if hour>=0 and hour<12 :\n",
    "        speak(f\"GOOD MORNING SIR !!! Its {strTime}\")\n",
    "    elif hour >=12 and hour<=18 :\n",
    "        speak(f\"GOOD AFTERNOON SIR !!! Its {strTime}\")\n",
    "    else:\n",
    "        speak(f\"GOOD EVENING SIR !!! Its {strTime}\")\n",
    "    speak(\"I am JARVIS-THE BOT . Your Personal Desktop Assitant.\")\n"
   ]
  },
  {
   "cell_type": "code",
   "execution_count": 9,
   "metadata": {},
   "outputs": [],
   "source": [
    "def takeCommand():    # takes microphone input from user and returns string output\n",
    "    r= sr.Recognizer()\n",
    "    with sr.Microphone() as source:\n",
    "        print (\"LISTENING....\")\n",
    "        r.pause_threshold = 1 # Pause Threshold is seconds of non speaking audio before a phrase is considerd complete\n",
    "        audio = r.listen(source=source)\n",
    "    try :\n",
    "        print(\"RECOGNIZING...\")\n",
    "        query = r.recognize_google(audio,language='en-in')\n",
    "        print(f\"USER SAID : {query}\\n\")\n",
    "        \n",
    "    except Exception as e : # If assitant doesnot recognize what user said then this exception works\n",
    "        # print(e) It prints that exception (why assistant not recognize what user said)\n",
    "        #speak(\"SAY THAT AGAIN PLEASE!\")\n",
    "        return \"None\"\n",
    "    return query\n"
   ]
  },
  {
   "cell_type": "code",
   "execution_count": 10,
   "metadata": {},
   "outputs": [],
   "source": [
    "def sendEmail(to,content):\n",
    "    server = smtplib.SMTP('smtp.gmail.com',587)\n",
    "    server.ehlo()\n",
    "    server.starttls()\n",
    "    server.login('sharmasumeer03@gmail.com','141#Sumeer')\n",
    "    server.sendmail('sharmasumeer03@gmail.com',to,content)\n",
    "    server.close()"
   ]
  },
  {
   "cell_type": "code",
   "execution_count": 11,
   "metadata": {},
   "outputs": [],
   "source": [
    "def news():\n",
    "    main_url = 'https://newsapi.org/v2/top-headlines?sources=techcrunch&apiKey=0663e42f41ba48acab6dbc96771daa03'\n",
    "    main_page = requests.get(main_url).json()\n",
    "    \n",
    "    articles = main_page[\"articles\"]\n",
    "    \n",
    "    head=[]\n",
    "    num =[\"first\",\"second\",\"third\",\"fourth\",\"fifth\",\"sixth\",\"seventh\",\"eighth\",\"nineth\",\"tenth\"]\n",
    "    for ar in articles:\n",
    "        head.append(ar[\"title\"])\n",
    "    for i in range(len(num)):\n",
    "        print(f\"today's {num[i]} news is : {head[i]}\")\n",
    "        speak(f\"today's {num[i]} news is : {head[i]}\")\n",
    "        "
   ]
  },
  {
   "cell_type": "code",
   "execution_count": 35,
   "metadata": {
    "scrolled": true
   },
   "outputs": [],
   "source": [
    "def Task_Execution():\n",
    "    wishme()\n",
    "    while True:\n",
    "    #if 1:\n",
    "        query = takeCommand().lower()\n",
    "        \n",
    "        if 'wikipedia' in query :\n",
    "            speak(\"SEARCHING WIKIPEDIA!!!\")\n",
    "            query = query.replace(\"wikipedia\",\"\")\n",
    "            results = wikipedia.summary(query,sentences=5)\n",
    "            speak(\"Accoring to wikipedia\")\n",
    "            speak(results)\n",
    "            print(results) # prints what your assistant speak\n",
    "        \n",
    "        elif 'hello' in query or 'hey' in query :\n",
    "            speak(\"HELLO SIR!!! HOW CAN I HELP YOU? \")\n",
    "        elif 'happy' in query or 'fine' in query :\n",
    "            speak(\"THAT'S GREAT SIR!!!\")\n",
    "        elif 'how are you' in query :\n",
    "            speak('I AM FINE SIR!! what about you sir ?')\n",
    "        elif 'sad' in query or 'not good' in query:\n",
    "            speak('DONT WORRY SIR I AM ALWAYS HERE FOR YOU')\n",
    "        elif 'thankyou' in query or 'thanks' in query :\n",
    "            speak(\"IT'S MY PLEASURE SIR !!!\")\n",
    "        elif 'open google' in query :\n",
    "            speak(\"Sir What should i search on Google?\")\n",
    "            cm = takeCommand().lower()\n",
    "            webbrowser.open(f\"{cm}\")\n",
    "        \n",
    "        elif 'open youtube' in query :\n",
    "            webbrowser.open(\"youtube.com\")\n",
    "        elif 'open google' in query :\n",
    "            speak(\"Sir, what do you wanna know\")\n",
    "            user_que = takeCommand().lower()\n",
    "            webbrowser.open(f\"{user_que}\")\n",
    "        elif 'open stack overflow' in query :\n",
    "            webbrowser.open(\"stackoverflow.com\")\n",
    "        elif 'open spotify' in query :\n",
    "            webbrowser.open(\"spotify.com\")\n",
    "            \n",
    "        elif 'play music' in query :\n",
    "            music_dir = 'D:\\\\fav_music'\n",
    "            songs = os.listdir(music_dir)\n",
    "            ran = random.choice(songs)\n",
    "            os.startfile(os.path.join(music_dir,ran))\n",
    "        \n",
    "        elif 'open command prompt' in query :\n",
    "            os.system(\"start cmd\")\n",
    "        \n",
    "        elif 'open camera' in query :\n",
    "            cap = cv2.VideoCapture(0)\n",
    "            while True :\n",
    "                ret,img = cap.read()\n",
    "                cv2.imshow('WEBCAM',img)\n",
    "                k = cv2.waitKey(50)\n",
    "                if k == 27:\n",
    "                    break;\n",
    "            cap.release()\n",
    "            cv2.destroyAllWindows() # Press Escape to close the camera\n",
    "        \n",
    "        elif 'tell me a joke' in query :                 # FOR JOKES\n",
    "            joke = pyjokes.get_joke()\n",
    "            speak(joke)\n",
    "            print(joke)\n",
    "            \n",
    "        elif 'tell me news' in query :                      \n",
    "            speak(\"PLEASE WAIT SIR, FETCHING THE TOP HEADLINES OF THE DAY\")   # FOR DAILY NEWS\n",
    "            news()\n",
    "\n",
    "        elif 'where i am' in query :\n",
    "            speak(\"WAIT SIR ,FETCHING YOUR CURRENT LOCATION\")     # FOR LOCATION\n",
    "            try :\n",
    "                url = 'http://ipinfo.io/json'\n",
    "                response = urlopen(url)\n",
    "                data = json.load(response)\n",
    "                print(data)\n",
    "                city = data['city']\n",
    "                country = data['country']\n",
    "                region = data['region']\n",
    "                speak(f\"SIR YOU ARE IN {city} city ,region {region} of country {country}\")\n",
    "                print(f\"SIR YOU ARE IN {city} city ,region {region} of country {country}\")\n",
    "            except Exception as e :\n",
    "                speak(\"SORRY SIR DUE TO SOME  CONNECTIVITY ISSUE I AM NOT ABLE TO FETCH YOUR CURRENT LOCATION\")\n",
    "                pass\n",
    "        elif 'email to sumi' in query:\n",
    "            speak('SIR WHAT SHOULD I SENT?')\n",
    "            query = takeCommand().lower()\n",
    "            if 'send file' in query:                       # EMAIL WITH FILE SEND OPTION\n",
    "                email = 'sharmasumeer03@gmail.com'\n",
    "                password ='141#Sumeer'\n",
    "                send_to_email ='sharmasumeer03@gmail.com' #whom you wanna sent\n",
    "                speak(\"OKAY SIR WHAT IS SUBJECT FOR THIS EMAIL\")\n",
    "                query = takeCommand().lower()\n",
    "                subject = query\n",
    "                speak(\"WHAT IS THE MESSAGE FOR THIS EMAIL\")\n",
    "                query2 = takeCommand().lower()\n",
    "                message = query2\n",
    "                speak(\"SIR PLEASE ENTER THE CORRECT PATH FOR THE FILE\")\n",
    "                file_location = input(\"PLEASE ENTER THE PATH FOR FILE\")# THE FILE ATTACHMENT IN EMAIL\n",
    "                speak(\"PLEASE WAIT SENDING EMAIL !!!!\")\n",
    "                \n",
    "                msg = MIMEMultipart()\n",
    "                msg['From'] = email\n",
    "                msg['To'] = send_to_email\n",
    "                msg['Subject'] = subject\n",
    "                \n",
    "                msg.attach(MIMEText(message,'plain'))\n",
    "                # SETUP THE ATTACHMENT\n",
    "                filename = os.path.basename(file_location)\n",
    "                attachment = open(file_location,\"rb\")\n",
    "                part = MIMEBase('application','octet-stream')\n",
    "                part.set_payload(attachment.read())\n",
    "                encoders.encode_base64(part)\n",
    "                part.add_header('Content-Disposition',\"attachment; filename = %s\" % filename)\n",
    "               \n",
    "                # ATTACH THE ATTACHMENT TO THE MIMEMULTIPART OBJECT\n",
    "                msg.attach(part)\n",
    "                \n",
    "                server = smtplib.SMTP('smtp.gmail.com',587)\n",
    "                server.starttls()\n",
    "                server.login(email,password)\n",
    "                text = msg.as_string()\n",
    "                server.sendmail(email,send_to_email,text)\n",
    "                server.quit()\n",
    "                speak(\"EMAIL HAS BEEN SENT TO SUMEER\")\n",
    "            else:\n",
    "                try :\n",
    "                    speak('SIR, WHAT YOU WANT TO SEND?')             # EMAIL WITHOUT FILE JUST MESSAGE\n",
    "                    content =  takeCommand().lower()\n",
    "                    to ='sharmasumeer03@gmail.com'\n",
    "                    sendEmail(to,content)\n",
    "                    speak(\"SIR,YOUR EMAIL HAS BEEN DELEIVRED TO SUMEER\")\n",
    "                except Exception as e:\n",
    "                    print(e)\n",
    "                    speak('SORRY SIR I AM  NOT ABLE TO DELIVER YOUR EMAIL TO SUMEER')\n",
    "        \n",
    "        elif 'insta profile' in query:          # INSTA PROFILE PIC DOWNLOADER\n",
    "            speak(\"SIR WHAT IS THE USERNAME OF THAT PROFILE WHICH YOU WANT TO CHECK\")\n",
    "            user_name = input(\"ENTER USER NAME HERE :\")\n",
    "            webbrowser.open(f\"www.instagram.com/{user_name}\")\n",
    "            speak(f\"SIR HERE IS THE PROFILE OF USERNAME {user_name}\")\n",
    "            time.sleep(5)\n",
    "            speak(\"SIR WOULD YOU LIKE  TOD DOWNLOAD THE PROFILE PICTURE OF THIS ACCOUNT?\")\n",
    "            condition = takeCommand().lower()\n",
    "            if 'yes' in condition:\n",
    "                mod = instaloader.Instaloader()\n",
    "                mod.download_profile(user_name,profile_pic_only = True)\n",
    "                speak(f\"PROFILE PIC OF {user_name} is DOWNLOADED SUCCESSFULLY SIR\")\n",
    "            else:\n",
    "                pass\n",
    "        \n",
    "        elif 'do some calculations' in query or 'can you calculate' in query: # FOR MATHEMETICAL CALCULATIONS\n",
    "            r= sr.Recognizer()\n",
    "            with sr.Microphone() as source:\n",
    "                speak(\"SIR WHAT DO YOU WANT TO CALCULATE\")\n",
    "                print(\"Listening.....\")\n",
    "                r.adjust_for_ambient_noise(source)\n",
    "                audio = r.listen(source)\n",
    "            my_string = r.recognize_google(audio)\n",
    "            print(my_string)\n",
    "            def get_operator_func(operator):\n",
    "                return{\n",
    "                    '+' : operator.add,\n",
    "                    '-' : operator.sub,\n",
    "                    '*' : operator.mul,\n",
    "                    'divided' : operator.__truediv__,\n",
    "                }[op]\n",
    "            def eval_binary_expr(op1,oper,op2):\n",
    "                op1,op2 = int(op1),int(op2)\n",
    "                return get_operator_func(oper)(op1,op2)\n",
    "            speak(\" SIR, YOUR RESULT IS \")\n",
    "            speak(eval_binary_expr(*(my_string.split())))\n",
    "        \n",
    "        elif 'switch' in query:          # For switching windows\n",
    "            pyautogui.keyDown(\"alt\") \n",
    "            pyautogui.press(\"tab\")\n",
    "            time.sleep(1)\n",
    "            pyautogui.keyUp(\"alt\")\n",
    "            \n",
    "        elif 'alarm' in query :\n",
    "            speak(\"SIR PLEASE TELL ME THE TIME TO SET ALARM FOR EXAMPLE SET ALARM TO 5.30 AM\")\n",
    "            tt = takeCommand()\n",
    "            tt = tt.replace(\"set alarm to\", \"\")\n",
    "            tt = tt.replace(\".\",\"\")\n",
    "            tt = tt.upper()\n",
    "            import MyAlarm\n",
    "            MyAlarm.alarm(tt)\n",
    "             \n",
    "        elif 'volume up' in query :         # Volume Control\n",
    "            pyautogui.press(\"volumeup\")      \n",
    "        elif 'volume down' in query :\n",
    "            pyautogui.press(\"volumedown\") \n",
    "        elif 'volume mute' in query :\n",
    "            pyautogui.press(\"volumemute\")\n",
    "        \n",
    "        elif 'how much power left' in query :         # BATTERY CHECKER\n",
    "            battery = psutil.sensors_battery()\n",
    "            percentage = battery.percent\n",
    "            speak(f'SIR OUR SYSTEM HAVE {percentage} percent batterys')\n",
    "            \n",
    "        elif 'internet speed' in query:\n",
    "            speak(\"PLEASE WAIT SIR I AM CHECKING YOUR INTERNET SPEED\")\n",
    "            st = speedtest.Speedtest()\n",
    "            dl = st.download()\n",
    "            up = st.upload()\n",
    "            speak(f\"SIR YOUR DOWNLOAD SPEED IS {dl} bit per second AND YOUR UPLOAD SPEED IS {up}BIT PER SECOND\")\n",
    "            print(f\"SIR YOUR DOWNLOAD SPEED IS {dl} bit per second AND YOUR UPLOAD SPEED IS {up}BIT PER SECOND\")\n",
    "        \n",
    "        elif 'open code' in query :\n",
    "            code_path = \"D:\\VS Code\\Microsoft VS Code\\Code.exe\" # VSCODE OPENER\n",
    "            os.startfile(code_path)\n",
    "        elif 'close code' in query:\n",
    "            speak(\"OKAY SIR CLOSING VS CODE\")\n",
    "            os.system(\"taskkill/f /im Code.exe\")\n",
    "            \n",
    "        elif 'activate how to do mode' in query :               # HOW TO DO MODE\n",
    "            speak(\"HOW TO DO MODE IS  NOW ACTIVATED PLEASE TELL ME WHAT YOU WANT TO DO ? \")\n",
    "            how = takeCommand()\n",
    "            max_results = 1\n",
    "            how_to = search_wikihow(how,max_results)\n",
    "            assert len(how_to) == 1\n",
    "            how_to[0].print()\n",
    "            speak(how_to[0].summary)\n",
    "            \n",
    "        elif 'sleep' in query:\n",
    "            speak(\"I AM GOING TO SLEEP MODE, YOU CAN CALL ME ANYTIME\")\n",
    "            break\n",
    "\n"
   ]
  },
  {
   "cell_type": "code",
   "execution_count": 37,
   "metadata": {},
   "outputs": [
    {
     "name": "stdout",
     "output_type": "stream",
     "text": [
      "LISTENING....\n",
      "RECOGNIZING...\n",
      "LISTENING....\n",
      "RECOGNIZING...\n",
      "USER SAID : wake up\n",
      "\n",
      "LISTENING....\n",
      "RECOGNIZING...\n",
      "USER SAID : alarm\n",
      "\n",
      "LISTENING....\n",
      "RECOGNIZING...\n",
      "USER SAID : set alarm 22346\n",
      "\n"
     ]
    },
    {
     "ename": "ModuleNotFoundError",
     "evalue": "No module named 'MyAlarm'",
     "output_type": "error",
     "traceback": [
      "\u001b[1;31m---------------------------------------------------------------------------\u001b[0m",
      "\u001b[1;31mModuleNotFoundError\u001b[0m                       Traceback (most recent call last)",
      "\u001b[1;32m<ipython-input-37-05a283fac1bf>\u001b[0m in \u001b[0;36m<module>\u001b[1;34m\u001b[0m\n\u001b[0;32m      3\u001b[0m         \u001b[0mpermission\u001b[0m \u001b[1;33m=\u001b[0m \u001b[0mtakeCommand\u001b[0m\u001b[1;33m(\u001b[0m\u001b[1;33m)\u001b[0m\u001b[1;33m\u001b[0m\u001b[1;33m\u001b[0m\u001b[0m\n\u001b[0;32m      4\u001b[0m         \u001b[1;32mif\u001b[0m \u001b[1;34m'wake up'\u001b[0m \u001b[1;32min\u001b[0m \u001b[0mpermission\u001b[0m \u001b[1;33m:\u001b[0m\u001b[1;33m\u001b[0m\u001b[1;33m\u001b[0m\u001b[0m\n\u001b[1;32m----> 5\u001b[1;33m             \u001b[0mTask_Execution\u001b[0m\u001b[1;33m(\u001b[0m\u001b[1;33m)\u001b[0m\u001b[1;33m\u001b[0m\u001b[1;33m\u001b[0m\u001b[0m\n\u001b[0m\u001b[0;32m      6\u001b[0m         \u001b[1;32melif\u001b[0m \u001b[1;34m'goodbye'\u001b[0m \u001b[1;32min\u001b[0m \u001b[0mpermission\u001b[0m\u001b[1;33m:\u001b[0m\u001b[1;33m\u001b[0m\u001b[1;33m\u001b[0m\u001b[0m\n\u001b[0;32m      7\u001b[0m             \u001b[0mspeak\u001b[0m\u001b[1;33m(\u001b[0m\u001b[1;34m\"GOING OFFLINE SIR\"\u001b[0m\u001b[1;33m)\u001b[0m\u001b[1;33m\u001b[0m\u001b[1;33m\u001b[0m\u001b[0m\n",
      "\u001b[1;32m<ipython-input-35-be76e0b12466>\u001b[0m in \u001b[0;36mTask_Execution\u001b[1;34m()\u001b[0m\n\u001b[0;32m    184\u001b[0m             \u001b[0mtt\u001b[0m \u001b[1;33m=\u001b[0m \u001b[0mtt\u001b[0m\u001b[1;33m.\u001b[0m\u001b[0mreplace\u001b[0m\u001b[1;33m(\u001b[0m\u001b[1;34m\".\"\u001b[0m\u001b[1;33m,\u001b[0m\u001b[1;34m\"\"\u001b[0m\u001b[1;33m)\u001b[0m\u001b[1;33m\u001b[0m\u001b[1;33m\u001b[0m\u001b[0m\n\u001b[0;32m    185\u001b[0m             \u001b[0mtt\u001b[0m \u001b[1;33m=\u001b[0m \u001b[0mtt\u001b[0m\u001b[1;33m.\u001b[0m\u001b[0mupper\u001b[0m\u001b[1;33m(\u001b[0m\u001b[1;33m)\u001b[0m\u001b[1;33m\u001b[0m\u001b[1;33m\u001b[0m\u001b[0m\n\u001b[1;32m--> 186\u001b[1;33m             \u001b[1;32mimport\u001b[0m \u001b[0mMyAlarm\u001b[0m\u001b[1;33m\u001b[0m\u001b[1;33m\u001b[0m\u001b[0m\n\u001b[0m\u001b[0;32m    187\u001b[0m             \u001b[0mMyAlarm\u001b[0m\u001b[1;33m.\u001b[0m\u001b[0malarm\u001b[0m\u001b[1;33m(\u001b[0m\u001b[0mtt\u001b[0m\u001b[1;33m)\u001b[0m\u001b[1;33m\u001b[0m\u001b[1;33m\u001b[0m\u001b[0m\n\u001b[0;32m    188\u001b[0m \u001b[1;33m\u001b[0m\u001b[0m\n",
      "\u001b[1;31mModuleNotFoundError\u001b[0m: No module named 'MyAlarm'"
     ]
    }
   ],
   "source": [
    "if __name__ == \"__main__\":\n",
    "    while True:\n",
    "        permission = takeCommand()\n",
    "        if 'wake up' in permission :\n",
    "            Task_Execution()\n",
    "        elif 'goodbye' in permission:\n",
    "            speak(\"GOING OFFLINE SIR\")\n",
    "            speak(\"THANKS FOR USING ME SIR!!!\")\n",
    "            sys.exit()"
   ]
  },
  {
   "cell_type": "code",
   "execution_count": 21,
   "metadata": {},
   "outputs": [
    {
     "name": "stdout",
     "output_type": "stream",
     "text": [
      "Note: you may need to restart the kernel to use updated packages.\n"
     ]
    },
    {
     "name": "stderr",
     "output_type": "stream",
     "text": [
      "ERROR: Invalid requirement: '#'\n"
     ]
    }
   ],
   "source": [
    "pip install PyAudio-0.2.11-cp38-cp38-win_amd64.whl # install pyaudio to recognize user's voice "
   ]
  },
  {
   "cell_type": "code",
   "execution_count": 8,
   "metadata": {},
   "outputs": [
    {
     "name": "stdout",
     "output_type": "stream",
     "text": [
      "Requirement already satisfied: pyjokes in d:\\programdata\\anaconda3\\lib\\site-packages (0.6.0)\n",
      "Note: you may need to restart the kernel to use updated packages.\n"
     ]
    }
   ],
   "source": [
    "pip install pyjokes #MODULE FOR JOKES"
   ]
  },
  {
   "cell_type": "code",
   "execution_count": 17,
   "metadata": {},
   "outputs": [
    {
     "name": "stdout",
     "output_type": "stream",
     "text": [
      "Collecting secure-smtplib\n",
      "  Downloading secure_smtplib-0.1.1-py2.py3-none-any.whl (3.4 kB)\n",
      "Installing collected packages: secure-smtplib\n",
      "Successfully installed secure-smtplib-0.1.1\n",
      "Note: you may need to restart the kernel to use updated packages.\n"
     ]
    }
   ],
   "source": [
    "pip install secure-smtplib #FOR EMAIL SENDING"
   ]
  },
  {
   "cell_type": "code",
   "execution_count": 27,
   "metadata": {},
   "outputs": [
    {
     "name": "stdout",
     "output_type": "stream",
     "text": [
      "Collecting PyAutoGUI\n",
      "  Downloading PyAutoGUI-0.9.53.tar.gz (59 kB)\n",
      "Collecting pymsgbox\n",
      "  Downloading PyMsgBox-1.0.9.tar.gz (18 kB)\n",
      "  Installing build dependencies: started\n",
      "  Installing build dependencies: finished with status 'done'\n",
      "  Getting requirements to build wheel: started\n",
      "  Getting requirements to build wheel: finished with status 'done'\n",
      "    Preparing wheel metadata: started\n",
      "    Preparing wheel metadata: finished with status 'done'\n",
      "Collecting PyTweening>=1.0.1\n",
      "  Downloading pytweening-1.0.4.tar.gz (14 kB)\n",
      "Collecting pyscreeze>=0.1.21\n",
      "  Downloading PyScreeze-0.1.28.tar.gz (25 kB)\n",
      "  Installing build dependencies: started\n",
      "  Installing build dependencies: finished with status 'done'\n",
      "  Getting requirements to build wheel: started\n",
      "  Getting requirements to build wheel: finished with status 'done'\n",
      "    Preparing wheel metadata: started\n",
      "    Preparing wheel metadata: finished with status 'done'\n",
      "Collecting pygetwindow>=0.0.5\n",
      "  Downloading PyGetWindow-0.0.9.tar.gz (9.7 kB)\n",
      "Collecting mouseinfo\n",
      "  Downloading MouseInfo-0.1.3.tar.gz (10 kB)\n",
      "Requirement already satisfied: Pillow>=6.2.1; python_version == \"3.8\" in d:\\programdata\\anaconda3\\lib\\site-packages (from pyscreeze>=0.1.21->PyAutoGUI) (8.0.1)\n",
      "Collecting pyrect\n",
      "  Downloading PyRect-0.1.4.tar.gz (15 kB)\n",
      "Collecting pyperclip\n",
      "  Downloading pyperclip-1.8.2.tar.gz (20 kB)\n",
      "Building wheels for collected packages: PyAutoGUI, pymsgbox, PyTweening, pyscreeze, pygetwindow, mouseinfo, pyrect, pyperclip\n",
      "  Building wheel for PyAutoGUI (setup.py): started\n",
      "  Building wheel for PyAutoGUI (setup.py): finished with status 'done'\n",
      "  Created wheel for PyAutoGUI: filename=PyAutoGUI-0.9.53-py3-none-any.whl size=36589 sha256=829a52a8f86bacc170b35f8fad549eaf1dc9787dd8185816a2f9fbc56ebdad47\n",
      "  Stored in directory: c:\\users\\sumeer\\appdata\\local\\pip\\cache\\wheels\\54\\04\\f7\\55704a9d374ed923785a4fdc0ef00151fa25306b3b93345532\n",
      "  Building wheel for pymsgbox (PEP 517): started\n",
      "  Building wheel for pymsgbox (PEP 517): finished with status 'done'\n",
      "  Created wheel for pymsgbox: filename=PyMsgBox-1.0.9-py3-none-any.whl size=7420 sha256=93e18253b496efeba71b56014a35f772dee20f9f18532972a8bce51e6164de8d\n",
      "  Stored in directory: c:\\users\\sumeer\\appdata\\local\\pip\\cache\\wheels\\91\\28\\0d\\f4eb606d38276836237d6dc2abf094241e6db5682a126e0389\n",
      "  Building wheel for PyTweening (setup.py): started\n",
      "  Building wheel for PyTweening (setup.py): finished with status 'done'\n",
      "  Created wheel for PyTweening: filename=pytweening-1.0.4-py3-none-any.whl size=5830 sha256=077134a80dcd11a65cfe3d5ccc966f740ffc9122b8e053d0886f58fa98abb5c9\n",
      "  Stored in directory: c:\\users\\sumeer\\appdata\\local\\pip\\cache\\wheels\\a2\\1b\\69\\dc477653ccc19228bf53af76c623e4e82e5dc1b6f78d5c4d35\n",
      "  Building wheel for pyscreeze (PEP 517): started\n",
      "  Building wheel for pyscreeze (PEP 517): finished with status 'done'\n",
      "  Created wheel for pyscreeze: filename=PyScreeze-0.1.28-py3-none-any.whl size=13023 sha256=5a1203a5ac7329d955ad536c60cbecc953e4c1f0ee6de3276574e288e7e1ed7c\n",
      "  Stored in directory: c:\\users\\sumeer\\appdata\\local\\pip\\cache\\wheels\\b1\\b0\\5c\\9fb5beb2d6c708479a670e92f4ab3b54523a15c9cd4a46e24e\n",
      "  Building wheel for pygetwindow (setup.py): started\n",
      "  Building wheel for pygetwindow (setup.py): finished with status 'done'\n",
      "  Created wheel for pygetwindow: filename=PyGetWindow-0.0.9-py3-none-any.whl size=11084 sha256=074eac7060cca330396d614f5c9a6559399a26b6164d5c92f50b36d4fa970e1dNote: you may need to restart the kernel to use updated packages.\n",
      "\n",
      "  Stored in directory: c:\\users\\sumeer\\appdata\\local\\pip\\cache\\wheels\\91\\e3\\04\\184bda98ec7f7d5f0ba1f372bcf7b3ba86325151ae1dd690fe\n",
      "  Building wheel for mouseinfo (setup.py): started\n",
      "  Building wheel for mouseinfo (setup.py): finished with status 'done'\n",
      "  Created wheel for mouseinfo: filename=MouseInfo-0.1.3-py3-none-any.whl size=10910 sha256=9dc6be36c2a773235bb9aeac7b157d5caaa4d09ade94784b46d25e9a65366e69\n",
      "  Stored in directory: c:\\users\\sumeer\\appdata\\local\\pip\\cache\\wheels\\d1\\72\\fb\\35f403de66285df8ecca7049bcc61bfb57aba0f76d1f08f7eb\n",
      "  Building wheel for pyrect (setup.py): started\n",
      "  Building wheel for pyrect (setup.py): finished with status 'done'\n",
      "  Created wheel for pyrect: filename=PyRect-0.1.4-py2.py3-none-any.whl size=9552 sha256=91c5be0fa767b8223b252b7a14816f600635654c847c5a045c5a65961b06d9d5\n",
      "  Stored in directory: c:\\users\\sumeer\\appdata\\local\\pip\\cache\\wheels\\d1\\e4\\47\\c62f8291b16b6df7e89ac885881ff71f35ca04c6e384251de9\n",
      "  Building wheel for pyperclip (setup.py): started\n",
      "  Building wheel for pyperclip (setup.py): finished with status 'done'\n",
      "  Created wheel for pyperclip: filename=pyperclip-1.8.2-py3-none-any.whl size=11112 sha256=cd4364dc65574971d83599f2a5f7a9799a409aea6fa0a9c57317fc7c0f83c7b4\n",
      "  Stored in directory: c:\\users\\sumeer\\appdata\\local\\pip\\cache\\wheels\\7f\\1a\\65\\84ff8c386bec21fca6d220ea1f5498a0367883a78dd5ba6122\n",
      "Successfully built PyAutoGUI pymsgbox PyTweening pyscreeze pygetwindow mouseinfo pyrect pyperclip\n",
      "Installing collected packages: pymsgbox, PyTweening, pyscreeze, pyrect, pygetwindow, pyperclip, mouseinfo, PyAutoGUI\n",
      "Successfully installed PyAutoGUI-0.9.53 PyTweening-1.0.4 mouseinfo-0.1.3 pygetwindow-0.0.9 pymsgbox-1.0.9 pyperclip-1.8.2 pyrect-0.1.4 pyscreeze-0.1.28\n"
     ]
    }
   ],
   "source": [
    "pip install PyAutoGUI # It is used to control mouse,keyboard and other GUI Automation tasks"
   ]
  },
  {
   "cell_type": "code",
   "execution_count": 38,
   "metadata": {},
   "outputs": [
    {
     "name": "stdout",
     "output_type": "stream",
     "text": [
      "Requirement already satisfied: urllib3 in d:\\programdata\\anaconda3\\lib\\site-packages (1.26.7)\n",
      "Note: you may need to restart the kernel to use updated packages.\n"
     ]
    }
   ],
   "source": [
    "pip install urllib3 "
   ]
  },
  {
   "cell_type": "code",
   "execution_count": 42,
   "metadata": {},
   "outputs": [
    {
     "name": "stdout",
     "output_type": "stream",
     "text": [
      "Collecting instadownloader\n",
      "  Downloading instadownloader-0.0.1-py3-none-any.whl (5.1 kB)\n",
      "Collecting numpy>=1.19.5\n",
      "  Downloading numpy-1.21.5-cp38-cp38-win_amd64.whl (14.0 MB)\n",
      "Collecting instaloader>=4.7.1\n",
      "  Downloading instaloader-4.8.2.tar.gz (54 kB)\n",
      "Requirement already satisfied: requests>=2.4 in d:\\programdata\\anaconda3\\lib\\site-packages (from instaloader>=4.7.1->instadownloader) (2.24.0)\n",
      "Requirement already satisfied: chardet<4,>=3.0.2 in d:\\programdata\\anaconda3\\lib\\site-packages (from requests>=2.4->instaloader>=4.7.1->instadownloader) (3.0.4)\n",
      "Collecting urllib3!=1.25.0,!=1.25.1,<1.26,>=1.21.1\n",
      "  Downloading urllib3-1.25.11-py2.py3-none-any.whl (127 kB)\n",
      "Requirement already satisfied: certifi>=2017.4.17 in d:\\programdata\\anaconda3\\lib\\site-packages (from requests>=2.4->instaloader>=4.7.1->instadownloader) (2020.6.20)\n",
      "Requirement already satisfied: idna<3,>=2.5 in d:\\programdata\\anaconda3\\lib\\site-packages (from requests>=2.4->instaloader>=4.7.1->instadownloader) (2.10)\n",
      "Building wheels for collected packages: instaloader\n",
      "  Building wheel for instaloader (setup.py): started\n",
      "  Building wheel for instaloader (setup.py): finished with status 'done'\n",
      "  Created wheel for instaloader: filename=instaloader-4.8.2-py3-none-any.whl size=58788 sha256=8c0ca67d72d13e6d47a6c396067bcb18ade3a6bdb91d506795ea1528b65222ef\n",
      "  Stored in directory: c:\\users\\sumeer\\appdata\\local\\pip\\cache\\wheels\\8e\\87\\32\\c4d3849a1c46e3368c9ddb67883be34b3fbea26daf548798f1\n",
      "Successfully built instaloader\n",
      "Installing collected packages: numpy, instaloader, instadownloader, urllib3\n",
      "  Attempting uninstall: numpy\n",
      "    Found existing installation: numpy 1.19.2\n",
      "    Uninstalling numpy-1.19.2:\n",
      "      Successfully uninstalled numpy-1.19.2\n",
      "  Attempting uninstall: urllib3\n",
      "    Found existing installation: urllib3 1.26.7\n",
      "    Uninstalling urllib3-1.26.7:\n",
      "      Successfully uninstalled urllib3-1.26.7\n",
      "Successfully installed instadownloader-0.0.1 instaloader-4.8.2 numpy-1.21.5 urllib3-1.25.11\n",
      "Note: you may need to restart the kernel to use updated packages.\n"
     ]
    },
    {
     "name": "stderr",
     "output_type": "stream",
     "text": [
      "ERROR: After October 2020 you may experience errors when installing or updating packages. This is because pip will change the way that it resolves dependency conflicts.\n",
      "\n",
      "We recommend you use --use-feature=2020-resolver to test your packages with the new resolver before it becomes the default.\n",
      "\n",
      "tensorflow 2.6.0 requires numpy~=1.19.2, but you'll have numpy 1.21.5 which is incompatible.\n",
      "tensorflow-gpu 2.6.0 requires numpy~=1.19.2, but you'll have numpy 1.21.5 which is incompatible.\n",
      "selenium 4.1.0 requires urllib3[secure]~=1.26, but you'll have urllib3 1.25.11 which is incompatible.\n"
     ]
    }
   ],
   "source": [
    "pip install instadownloader # MODULE FOR INSTA PROFILE PIC DOWNLOAD"
   ]
  },
  {
   "cell_type": "code",
   "execution_count": 2,
   "metadata": {},
   "outputs": [
    {
     "name": "stdout",
     "output_type": "stream",
     "text": [
      "Collecting pywikihow\n",
      "  Downloading pywikihow-0.5.7.tar.gz (3.7 kB)\n",
      "Requirement already satisfied: requests in d:\\programdata\\anaconda3\\lib\\site-packages (from pywikihow) (2.24.0)\n",
      "Requirement already satisfied: bs4 in d:\\programdata\\anaconda3\\lib\\site-packages (from pywikihow) (0.0.1)\n",
      "Collecting requests-cache\n",
      "  Downloading requests_cache-0.8.1-py3-none-any.whl (44 kB)\n",
      "Requirement already satisfied: idna<3,>=2.5 in d:\\programdata\\anaconda3\\lib\\site-packages (from requests->pywikihow) (2.10)\n",
      "Requirement already satisfied: chardet<4,>=3.0.2 in d:\\programdata\\anaconda3\\lib\\site-packages (from requests->pywikihow) (3.0.4)\n",
      "Requirement already satisfied: urllib3!=1.25.0,!=1.25.1,<1.26,>=1.21.1 in d:\\programdata\\anaconda3\\lib\\site-packages (from requests->pywikihow) (1.25.11)\n",
      "Requirement already satisfied: certifi>=2017.4.17 in d:\\programdata\\anaconda3\\lib\\site-packages (from requests->pywikihow) (2020.6.20)\n",
      "Requirement already satisfied: beautifulsoup4 in d:\\programdata\\anaconda3\\lib\\site-packages (from bs4->pywikihow) (4.9.3)\n",
      "Collecting url-normalize<2.0,>=1.4\n",
      "  Downloading url_normalize-1.4.3-py2.py3-none-any.whl (6.8 kB)\n",
      "Collecting attrs<22.0,>=21.2\n",
      "  Downloading attrs-21.4.0-py2.py3-none-any.whl (60 kB)\n",
      "Collecting cattrs<2.0,>=1.8\n",
      "  Downloading cattrs-1.9.0-py3-none-any.whl (25 kB)\n",
      "Collecting appdirs<2.0.0,>=1.4.4\n",
      "  Downloading appdirs-1.4.4-py2.py3-none-any.whl (9.6 kB)\n",
      "Requirement already satisfied: soupsieve>1.2; python_version >= \"3.0\" in d:\\programdata\\anaconda3\\lib\\site-packages (from beautifulsoup4->bs4->pywikihow) (2.0.1)\n",
      "Requirement already satisfied: six in d:\\programdata\\anaconda3\\lib\\site-packages (from url-normalize<2.0,>=1.4->requests-cache->pywikihow) (1.15.0)\n",
      "Building wheels for collected packages: pywikihow\n",
      "  Building wheel for pywikihow (setup.py): started\n",
      "  Building wheel for pywikihow (setup.py): finished with status 'done'\n",
      "  Created wheel for pywikihow: filename=pywikihow-0.5.7-py3-none-any.whl size=3662 sha256=4ae31a1c98a0278830dd6e0f822a5f42f90fe4f11efabc4f96dd2d88acc5d4d1\n",
      "  Stored in directory: c:\\users\\sumeer\\appdata\\local\\pip\\cache\\wheels\\57\\de\\96\\beeb4c639bd297c84344db752894703a8bf2111beb686a680e\n",
      "Successfully built pywikihow\n",
      "Installing collected packages: url-normalize, attrs, cattrs, appdirs, requests-cache, pywikihow\n",
      "  Attempting uninstall: attrs\n",
      "    Found existing installation: attrs 20.3.0\n",
      "    Uninstalling attrs-20.3.0:\n",
      "      Successfully uninstalled attrs-20.3.0\n",
      "Successfully installed appdirs-1.4.4 attrs-21.4.0 cattrs-1.9.0 pywikihow-0.5.7 requests-cache-0.8.1 url-normalize-1.4.3\n",
      "Note: you may need to restart the kernel to use updated packages.\n"
     ]
    },
    {
     "name": "stderr",
     "output_type": "stream",
     "text": [
      "ERROR: After October 2020 you may experience errors when installing or updating packages. This is because pip will change the way that it resolves dependency conflicts.\n",
      "\n",
      "We recommend you use --use-feature=2020-resolver to test your packages with the new resolver before it becomes the default.\n",
      "\n",
      "selenium 4.1.0 requires urllib3[secure]~=1.26, but you'll have urllib3 1.25.11 which is incompatible.\n"
     ]
    }
   ],
   "source": [
    "pip install pywikihow # MODULE USED FOR HOW TO DO MODE"
   ]
  },
  {
   "cell_type": "code",
   "execution_count": 1,
   "metadata": {},
   "outputs": [
    {
     "name": "stdout",
     "output_type": "stream",
     "text": [
      "Requirement already satisfied: psutil in d:\\programdata\\anaconda3\\lib\\site-packages (5.7.2)Note: you may need to restart the kernel to use updated packages.\n",
      "\n"
     ]
    }
   ],
   "source": [
    "pip install psutil # MODULE USED FOR BATTERY PERCENTAGE"
   ]
  },
  {
   "cell_type": "code",
   "execution_count": 14,
   "metadata": {},
   "outputs": [
    {
     "name": "stdout",
     "output_type": "stream",
     "text": [
      "Collecting speedtest-cli\n",
      "  Downloading speedtest_cli-2.1.3-py2.py3-none-any.whl (23 kB)\n",
      "Installing collected packages: speedtest-cli\n",
      "Successfully installed speedtest-cli-2.1.3\n",
      "Note: you may need to restart the kernel to use updated packages.\n"
     ]
    }
   ],
   "source": [
    "pip install speedtest-cli # MODULE FOR INTERNET SPEED TEST"
   ]
  },
  {
   "cell_type": "code",
   "execution_count": 32,
   "metadata": {},
   "outputs": [
    {
     "name": "stdout",
     "output_type": "stream",
     "text": [
      "Requirement already satisfied: MyAlarm in d:\\programdata\\anaconda3\\lib\\site-packages (0.0.0)\n",
      "Requirement already satisfied: datetime in d:\\programdata\\anaconda3\\lib\\site-packages (from MyAlarm) (4.3)\n",
      "Requirement already satisfied: playsound in d:\\programdata\\anaconda3\\lib\\site-packages (from MyAlarm) (1.3.0)\n",
      "Requirement already satisfied: pytz in d:\\programdata\\anaconda3\\lib\\site-packages (from datetime->MyAlarm) (2020.1)\n",
      "Requirement already satisfied: zope.interface in d:\\programdata\\anaconda3\\lib\\site-packages (from datetime->MyAlarm) (5.1.2)\n",
      "Requirement already satisfied: setuptools in d:\\programdata\\anaconda3\\lib\\site-packages (from zope.interface->datetime->MyAlarm) (50.3.1.post20201107)\n",
      "Note: you may need to restart the kernel to use updated packages.\n"
     ]
    }
   ],
   "source": [
    "pip install MyAlarm "
   ]
  },
  {
   "cell_type": "code",
   "execution_count": null,
   "metadata": {},
   "outputs": [],
   "source": []
  }
 ],
 "metadata": {
  "kernelspec": {
   "display_name": "Python 3",
   "language": "python",
   "name": "python3"
  },
  "language_info": {
   "codemirror_mode": {
    "name": "ipython",
    "version": 3
   },
   "file_extension": ".py",
   "mimetype": "text/x-python",
   "name": "python",
   "nbconvert_exporter": "python",
   "pygments_lexer": "ipython3",
   "version": "3.8.5"
  }
 },
 "nbformat": 4,
 "nbformat_minor": 4
}
